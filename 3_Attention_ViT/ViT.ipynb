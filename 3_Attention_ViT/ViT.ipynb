{
 "cells": [
  {
   "cell_type": "code",
   "execution_count": 1,
   "metadata": {},
   "outputs": [
    {
     "name": "stderr",
     "output_type": "stream",
     "text": [
      "/home/anishpawar/miniconda3/envs/carla1/lib/python3.7/site-packages/tqdm/auto.py:21: TqdmWarning: IProgress not found. Please update jupyter and ipywidgets. See https://ipywidgets.readthedocs.io/en/stable/user_install.html\n",
      "  from .autonotebook import tqdm as notebook_tqdm\n"
     ]
    }
   ],
   "source": [
    "import torch\n",
    "import torchvision \n",
    "import torchvision.transforms as transforms\n",
    "import matplotlib.pyplot as plt\n",
    "import numpy as np\n",
    "import torch.nn as nn\n",
    "import torch.nn.functional as F\n",
    "from tqdm import tqdm"
   ]
  },
  {
   "cell_type": "code",
   "execution_count": 2,
   "metadata": {},
   "outputs": [
    {
     "name": "stdout",
     "output_type": "stream",
     "text": [
      "cuda\n"
     ]
    }
   ],
   "source": [
    "device = torch.device('cuda' if torch.cuda.is_available() else 'cpu')\n",
    "print(device)"
   ]
  },
  {
   "cell_type": "markdown",
   "metadata": {},
   "source": [
    "## Dataloader"
   ]
  },
  {
   "cell_type": "code",
   "execution_count": 3,
   "metadata": {},
   "outputs": [
    {
     "name": "stdout",
     "output_type": "stream",
     "text": [
      "Files already downloaded and verified\n",
      "Files already downloaded and verified\n"
     ]
    }
   ],
   "source": [
    "transform = transforms.Compose(\n",
    "    [transforms.ToTensor(),\n",
    "     transforms.Normalize((0.5, 0.5, 0.5), (0.5, 0.5, 0.5))])\n",
    "\n",
    "batch_size = 128\n",
    "\n",
    "train_og = torchvision.datasets.CIFAR10(root='./data', train=True,\n",
    "                                        download=True, transform=transform)\n",
    "\n",
    "train, val = torch.utils.data.random_split(train_og, [len(train_og) - int(0.1 * len(train_og)), int(0.1 * len(train_og))])\n",
    "\n",
    "\n",
    "trainloader = torch.utils.data.DataLoader(train, batch_size=batch_size,\n",
    "                                          shuffle=True, num_workers=2)\n",
    "\n",
    "valloader = torch.utils.data.DataLoader(val, batch_size=batch_size,\n",
    "                                          shuffle=True, num_workers=2)\n",
    "\n",
    "\n",
    "\n",
    "test = torchvision.datasets.CIFAR10(root='./data', train=False,\n",
    "                                       download=True, transform=transform)\n",
    "testloader = torch.utils.data.DataLoader(test, batch_size=batch_size,\n",
    "                                         shuffle=False, num_workers=2)\n",
    "\n",
    "classes = ('plane', 'car', 'bird', 'cat',\n",
    "           'deer', 'dog', 'frog', 'horse', 'ship', 'truck')"
   ]
  },
  {
   "cell_type": "code",
   "execution_count": 4,
   "metadata": {},
   "outputs": [
    {
     "data": {
      "text/plain": [
       "352"
      ]
     },
     "execution_count": 4,
     "metadata": {},
     "output_type": "execute_result"
    }
   ],
   "source": [
    "len(trainloader)"
   ]
  },
  {
   "cell_type": "markdown",
   "metadata": {},
   "source": [
    "## Pre-Proc"
   ]
  },
  {
   "cell_type": "code",
   "execution_count": 5,
   "metadata": {},
   "outputs": [],
   "source": [
    "dataiter = iter(trainloader)\n",
    "images,labels = next(dataiter)"
   ]
  },
  {
   "cell_type": "code",
   "execution_count": 6,
   "metadata": {},
   "outputs": [],
   "source": [
    "def imgEmbedd(images, n_patches):\n",
    "    n, c, h, w = images.shape\n",
    "\n",
    "\n",
    "    patches = torch.zeros(n, n_patches ** 2, h * w * c // n_patches ** 2)\n",
    "    patch_size = h // n_patches\n",
    "\n",
    "    for idx, image in enumerate(images):\n",
    "        for i in range(n_patches):\n",
    "            for j in range(n_patches):\n",
    "                patch = image[:, i * patch_size: (i + 1) * patch_size, j * patch_size: (j + 1) * patch_size]\n",
    "                patches[idx, i * n_patches + j] = patch.flatten()\n",
    "    return patches"
   ]
  },
  {
   "cell_type": "code",
   "execution_count": 7,
   "metadata": {},
   "outputs": [],
   "source": [
    "Patches = imgEmbedd(images,4)"
   ]
  },
  {
   "cell_type": "markdown",
   "metadata": {},
   "source": [
    "## Attention"
   ]
  },
  {
   "cell_type": "code",
   "execution_count": 8,
   "metadata": {},
   "outputs": [],
   "source": [
    "\n",
    "\n",
    "class SelfAttention(nn.Module):\n",
    "    def __init__(self, N, D, device):\n",
    "        super().__init__()\n",
    "\n",
    "        self.N = N\n",
    "        self.D = D\n",
    "        \n",
    "        self.fc1 = nn.Linear(D, 4*D).to(device)\n",
    "        self.fc2 = nn.Linear(4*D, 6*D).to(device)\n",
    "        self.fc3 = nn.Linear(6*D, D).to(device)\n",
    "\n",
    "        self.WQ = nn.Parameter(torch.randn(D, D)).to(device)\n",
    "        self.WV = nn.Parameter(torch.randn(D, D)).to(device)\n",
    "        self.WK = nn.Parameter(torch.randn(D, D)).to(device)\n",
    "        \n",
    "        self.device = device\n",
    "\n",
    "    def forward(self, X):\n",
    "        Q = X @ self.WQ\n",
    "        K = X @ self.WK\n",
    "        V = X @ self.WV\n",
    "\n",
    "        out_logits = Q @ K.transpose(1, 2)\n",
    "        Y = F.softmax(out_logits / torch.sqrt(torch.tensor([self.D], device=X.device)), dim=1) @ V\n",
    "\n",
    "        LN_Out = F.layer_norm(Y + X, normalized_shape=(self.N, self.D))\n",
    "\n",
    "        x = F.relu(self.fc1(LN_Out))\n",
    "        x = F.relu(self.fc2(x))\n",
    "        x = self.fc3(x)\n",
    "        \n",
    "        to_ret = x.view((-1, self.N, self.D)) + LN_Out\n",
    "\n",
    "        to_ret_final = F.layer_norm(to_ret, normalized_shape=(self.N, self.D))\n",
    "\n",
    "        return to_ret_final\n"
   ]
  },
  {
   "cell_type": "code",
   "execution_count": 9,
   "metadata": {},
   "outputs": [],
   "source": [
    "SA1 = SelfAttention(N=16,D=192,device=device)\n",
    "out = SA1.forward(Patches.to(device))"
   ]
  },
  {
   "cell_type": "code",
   "execution_count": 10,
   "metadata": {},
   "outputs": [
    {
     "data": {
      "text/plain": [
       "torch.Size([128, 16, 192])"
      ]
     },
     "execution_count": 10,
     "metadata": {},
     "output_type": "execute_result"
    }
   ],
   "source": [
    "out.shape"
   ]
  },
  {
   "cell_type": "code",
   "execution_count": 11,
   "metadata": {},
   "outputs": [],
   "source": [
    "class MultiHeadedAttention(nn.Module):\n",
    "    def __init__(self, N=16, D=192, B=4, heads=2):\n",
    "        super().__init__()\n",
    "        self.N = N\n",
    "        self.D = D\n",
    "        self.B = B\n",
    "        self.Numheads = heads\n",
    "\n",
    "        self.attention_heads = nn.ModuleList([\n",
    "            SelfAttention(N=self.N, D=self.D, device=None).to(device) for _ in range(self.Numheads)])\n",
    "\n",
    "        self.output_projection = nn.Linear(self.Numheads * self.D, self.D)\n",
    "\n",
    "    def forward(self, input):\n",
    "        # Inferencing for 1st Head then appending the outputs of the rest of the heads to it\n",
    "        self_attention_res = self.attention_heads[0](input)\n",
    "        \n",
    "        for i in range(1, self.Numheads):\n",
    "            self_attention_res = torch.cat([self_attention_res, self.attention_heads[i](input)], dim=2)\n",
    "\n",
    "        Y_MHA = self.output_projection(self_attention_res)\n",
    "\n",
    "        output = F.layer_norm(Y_MHA + input, normalized_shape=(self.N, self.D))\n",
    "\n",
    "        return output\n"
   ]
  },
  {
   "cell_type": "code",
   "execution_count": 12,
   "metadata": {},
   "outputs": [],
   "source": [
    "\n",
    "multihead_attn = MultiHeadedAttention(N=16, D=192, B=batch_size, heads=2).to(device)\n",
    "output = multihead_attn(Patches.to(device))\n"
   ]
  },
  {
   "cell_type": "code",
   "execution_count": 13,
   "metadata": {},
   "outputs": [
    {
     "data": {
      "text/plain": [
       "torch.Size([128, 16, 192])"
      ]
     },
     "execution_count": 13,
     "metadata": {},
     "output_type": "execute_result"
    }
   ],
   "source": [
    "output.shape"
   ]
  },
  {
   "cell_type": "markdown",
   "metadata": {},
   "source": [
    "## ViT"
   ]
  },
  {
   "cell_type": "code",
   "execution_count": 14,
   "metadata": {},
   "outputs": [],
   "source": [
    "class ViT(nn.Module):\n",
    "    def __init__(self,X_Dummy,n_patches) -> None:\n",
    "        super().__init__()\n",
    "        # Giving 1 batch of training data for auto initialisation of the parameters\n",
    "        self.X_Dummy = X_Dummy\n",
    "        \n",
    "        self.B, self.C, self.W, self.H = self.X_Dummy.shape\n",
    "\n",
    "        self.n_patches = n_patches\n",
    "\n",
    "        self.patches_temp = imgEmbedd(self.X_Dummy,n_patches)\n",
    "\n",
    "        _, self.N,self.D  = self.patches_temp.shape\n",
    "\n",
    "\n",
    "\n",
    "        # For class token\n",
    "        self.N+=1\n",
    "\n",
    "\n",
    "        self.MHA1 = MultiHeadedAttention(N=self.N, D=self.D, B=self.B, heads=6).to(device)\n",
    "\n",
    "        self.MHA2 = MultiHeadedAttention(N=self.N, D=self.D, B=self.B, heads=6).to(device)\n",
    "\n",
    "\n",
    "        self.fc1 = nn.Linear(self.D,4*self.D).to(device)\n",
    "        self.fc2 = nn.Linear(4*self.D, 10).to(device)\n",
    "        \n",
    "        self.class_token = torch.rand((1, self.D),requires_grad=True).to(device)\n",
    "\n",
    "\n",
    "    def forward(self,X):\n",
    "\n",
    "        self.X = X\n",
    "\n",
    "        self.B, self.C, self.W, self.H = self.X.shape\n",
    "        \n",
    "\n",
    "        self.patches = imgEmbedd(X,self.n_patches).to(device)\n",
    "\n",
    "        _, self.N,self.D  = self.patches.shape\n",
    "\n",
    "        # Appending clas token\n",
    "        self.patches = torch.cat((self.class_token.expand(self.B, 1, -1), self.patches), dim=1)\n",
    "\n",
    "        x = self.MHA1.forward(self.patches)\n",
    "\n",
    "        x = self.MHA2.forward(x)\n",
    "\n",
    "\n",
    "        x = F.relu(self.fc1(x[:,0]))\n",
    "        # print(x.shape)\n",
    "        x = self.fc2(x)\n",
    "        # print(x.shape)\n",
    "\n",
    "        return x\n",
    "\n",
    "\n",
    "        "
   ]
  },
  {
   "cell_type": "code",
   "execution_count": 15,
   "metadata": {},
   "outputs": [],
   "source": [
    "dataiter = iter(trainloader)\n",
    "images,labels = next(dataiter)"
   ]
  },
  {
   "cell_type": "code",
   "execution_count": 16,
   "metadata": {},
   "outputs": [],
   "source": [
    "vit1 = ViT(images,4)"
   ]
  },
  {
   "cell_type": "code",
   "execution_count": 17,
   "metadata": {},
   "outputs": [],
   "source": [
    "y = vit1.forward(images)"
   ]
  },
  {
   "cell_type": "code",
   "execution_count": 18,
   "metadata": {},
   "outputs": [
    {
     "data": {
      "text/plain": [
       "torch.Size([128, 10])"
      ]
     },
     "execution_count": 18,
     "metadata": {},
     "output_type": "execute_result"
    }
   ],
   "source": [
    "y.shape"
   ]
  },
  {
   "cell_type": "code",
   "execution_count": 19,
   "metadata": {},
   "outputs": [
    {
     "data": {
      "text/plain": [
       "ViT(\n",
       "  (MHA1): MultiHeadedAttention(\n",
       "    (attention_heads): ModuleList(\n",
       "      (0): SelfAttention(\n",
       "        (fc1): Linear(in_features=192, out_features=768, bias=True)\n",
       "        (fc2): Linear(in_features=768, out_features=1152, bias=True)\n",
       "        (fc3): Linear(in_features=1152, out_features=192, bias=True)\n",
       "      )\n",
       "      (1): SelfAttention(\n",
       "        (fc1): Linear(in_features=192, out_features=768, bias=True)\n",
       "        (fc2): Linear(in_features=768, out_features=1152, bias=True)\n",
       "        (fc3): Linear(in_features=1152, out_features=192, bias=True)\n",
       "      )\n",
       "      (2): SelfAttention(\n",
       "        (fc1): Linear(in_features=192, out_features=768, bias=True)\n",
       "        (fc2): Linear(in_features=768, out_features=1152, bias=True)\n",
       "        (fc3): Linear(in_features=1152, out_features=192, bias=True)\n",
       "      )\n",
       "      (3): SelfAttention(\n",
       "        (fc1): Linear(in_features=192, out_features=768, bias=True)\n",
       "        (fc2): Linear(in_features=768, out_features=1152, bias=True)\n",
       "        (fc3): Linear(in_features=1152, out_features=192, bias=True)\n",
       "      )\n",
       "      (4): SelfAttention(\n",
       "        (fc1): Linear(in_features=192, out_features=768, bias=True)\n",
       "        (fc2): Linear(in_features=768, out_features=1152, bias=True)\n",
       "        (fc3): Linear(in_features=1152, out_features=192, bias=True)\n",
       "      )\n",
       "      (5): SelfAttention(\n",
       "        (fc1): Linear(in_features=192, out_features=768, bias=True)\n",
       "        (fc2): Linear(in_features=768, out_features=1152, bias=True)\n",
       "        (fc3): Linear(in_features=1152, out_features=192, bias=True)\n",
       "      )\n",
       "    )\n",
       "    (output_projection): Linear(in_features=1152, out_features=192, bias=True)\n",
       "  )\n",
       "  (MHA2): MultiHeadedAttention(\n",
       "    (attention_heads): ModuleList(\n",
       "      (0): SelfAttention(\n",
       "        (fc1): Linear(in_features=192, out_features=768, bias=True)\n",
       "        (fc2): Linear(in_features=768, out_features=1152, bias=True)\n",
       "        (fc3): Linear(in_features=1152, out_features=192, bias=True)\n",
       "      )\n",
       "      (1): SelfAttention(\n",
       "        (fc1): Linear(in_features=192, out_features=768, bias=True)\n",
       "        (fc2): Linear(in_features=768, out_features=1152, bias=True)\n",
       "        (fc3): Linear(in_features=1152, out_features=192, bias=True)\n",
       "      )\n",
       "      (2): SelfAttention(\n",
       "        (fc1): Linear(in_features=192, out_features=768, bias=True)\n",
       "        (fc2): Linear(in_features=768, out_features=1152, bias=True)\n",
       "        (fc3): Linear(in_features=1152, out_features=192, bias=True)\n",
       "      )\n",
       "      (3): SelfAttention(\n",
       "        (fc1): Linear(in_features=192, out_features=768, bias=True)\n",
       "        (fc2): Linear(in_features=768, out_features=1152, bias=True)\n",
       "        (fc3): Linear(in_features=1152, out_features=192, bias=True)\n",
       "      )\n",
       "      (4): SelfAttention(\n",
       "        (fc1): Linear(in_features=192, out_features=768, bias=True)\n",
       "        (fc2): Linear(in_features=768, out_features=1152, bias=True)\n",
       "        (fc3): Linear(in_features=1152, out_features=192, bias=True)\n",
       "      )\n",
       "      (5): SelfAttention(\n",
       "        (fc1): Linear(in_features=192, out_features=768, bias=True)\n",
       "        (fc2): Linear(in_features=768, out_features=1152, bias=True)\n",
       "        (fc3): Linear(in_features=1152, out_features=192, bias=True)\n",
       "      )\n",
       "    )\n",
       "    (output_projection): Linear(in_features=1152, out_features=192, bias=True)\n",
       "  )\n",
       "  (fc1): Linear(in_features=192, out_features=768, bias=True)\n",
       "  (fc2): Linear(in_features=768, out_features=10, bias=True)\n",
       ")"
      ]
     },
     "execution_count": 19,
     "metadata": {},
     "output_type": "execute_result"
    }
   ],
   "source": [
    "vit1.to(device)"
   ]
  },
  {
   "cell_type": "markdown",
   "metadata": {},
   "source": [
    "## Training Lop"
   ]
  },
  {
   "cell_type": "code",
   "execution_count": 20,
   "metadata": {},
   "outputs": [],
   "source": [
    "from tqdm import tqdm\n",
    "import torch.optim as optim\n",
    "\n",
    "criterion = nn.CrossEntropyLoss()\n",
    "optimizer = optim.Adam(vit1.parameters(), lr=1e-4)"
   ]
  },
  {
   "cell_type": "code",
   "execution_count": 22,
   "metadata": {},
   "outputs": [
    {
     "name": "stderr",
     "output_type": "stream",
     "text": [
      "352it [00:22, 15.59it/s]"
     ]
    },
    {
     "name": "stdout",
     "output_type": "stream",
     "text": [
      "Epoch: 1\n",
      "Train Loss is: 661.92\n",
      "Train Accuracy is: 30.89 %\n"
     ]
    },
    {
     "name": "stderr",
     "output_type": "stream",
     "text": [
      "\n"
     ]
    },
    {
     "name": "stdout",
     "output_type": "stream",
     "text": [
      "Val Loss is: 72.75\n",
      "Val Accuracy is: 33.66 %\n",
      "----------------------------------------------------\n"
     ]
    },
    {
     "name": "stderr",
     "output_type": "stream",
     "text": [
      "352it [00:22, 15.68it/s]"
     ]
    },
    {
     "name": "stdout",
     "output_type": "stream",
     "text": [
      "Epoch: 2\n",
      "Train Loss is: 623.84\n",
      "Train Accuracy is: 35.24 %\n"
     ]
    },
    {
     "name": "stderr",
     "output_type": "stream",
     "text": [
      "\n"
     ]
    },
    {
     "name": "stdout",
     "output_type": "stream",
     "text": [
      "Val Loss is: 71.13\n",
      "Val Accuracy is: 35.26 %\n",
      "----------------------------------------------------\n"
     ]
    },
    {
     "name": "stderr",
     "output_type": "stream",
     "text": [
      "352it [00:22, 15.69it/s]"
     ]
    },
    {
     "name": "stdout",
     "output_type": "stream",
     "text": [
      "Epoch: 3\n",
      "Train Loss is: 608.74\n",
      "Train Accuracy is: 36.85 %\n"
     ]
    },
    {
     "name": "stderr",
     "output_type": "stream",
     "text": [
      "\n"
     ]
    },
    {
     "name": "stdout",
     "output_type": "stream",
     "text": [
      "Val Loss is: 69.02\n",
      "Val Accuracy is: 37.08 %\n",
      "----------------------------------------------------\n"
     ]
    },
    {
     "name": "stderr",
     "output_type": "stream",
     "text": [
      "352it [00:22, 15.66it/s]"
     ]
    },
    {
     "name": "stdout",
     "output_type": "stream",
     "text": [
      "Epoch: 4\n",
      "Train Loss is: 597.40\n",
      "Train Accuracy is: 38.16 %\n"
     ]
    },
    {
     "name": "stderr",
     "output_type": "stream",
     "text": [
      "\n"
     ]
    },
    {
     "name": "stdout",
     "output_type": "stream",
     "text": [
      "Val Loss is: 70.35\n",
      "Val Accuracy is: 36.04 %\n",
      "----------------------------------------------------\n"
     ]
    },
    {
     "name": "stderr",
     "output_type": "stream",
     "text": [
      "352it [00:22, 15.61it/s]"
     ]
    },
    {
     "name": "stdout",
     "output_type": "stream",
     "text": [
      "Epoch: 5\n",
      "Train Loss is: 587.01\n",
      "Train Accuracy is: 39.40 %\n"
     ]
    },
    {
     "name": "stderr",
     "output_type": "stream",
     "text": [
      "\n"
     ]
    },
    {
     "name": "stdout",
     "output_type": "stream",
     "text": [
      "Val Loss is: 68.03\n",
      "Val Accuracy is: 37.70 %\n",
      "----------------------------------------------------\n"
     ]
    },
    {
     "name": "stderr",
     "output_type": "stream",
     "text": [
      "352it [00:22, 15.67it/s]"
     ]
    },
    {
     "name": "stdout",
     "output_type": "stream",
     "text": [
      "Epoch: 6\n",
      "Train Loss is: 576.93\n",
      "Train Accuracy is: 40.29 %\n"
     ]
    },
    {
     "name": "stderr",
     "output_type": "stream",
     "text": [
      "\n"
     ]
    },
    {
     "name": "stdout",
     "output_type": "stream",
     "text": [
      "Val Loss is: 67.85\n",
      "Val Accuracy is: 37.82 %\n",
      "----------------------------------------------------\n"
     ]
    },
    {
     "name": "stderr",
     "output_type": "stream",
     "text": [
      "352it [00:22, 15.57it/s]"
     ]
    },
    {
     "name": "stdout",
     "output_type": "stream",
     "text": [
      "Epoch: 7\n",
      "Train Loss is: 569.08\n",
      "Train Accuracy is: 41.25 %\n"
     ]
    },
    {
     "name": "stderr",
     "output_type": "stream",
     "text": [
      "\n"
     ]
    },
    {
     "name": "stdout",
     "output_type": "stream",
     "text": [
      "Val Loss is: 66.80\n",
      "Val Accuracy is: 38.88 %\n",
      "----------------------------------------------------\n"
     ]
    },
    {
     "name": "stderr",
     "output_type": "stream",
     "text": [
      "352it [00:22, 15.49it/s]"
     ]
    },
    {
     "name": "stdout",
     "output_type": "stream",
     "text": [
      "Epoch: 8\n",
      "Train Loss is: 563.55\n",
      "Train Accuracy is: 42.01 %\n"
     ]
    },
    {
     "name": "stderr",
     "output_type": "stream",
     "text": [
      "\n"
     ]
    },
    {
     "name": "stdout",
     "output_type": "stream",
     "text": [
      "Val Loss is: 65.74\n",
      "Val Accuracy is: 39.64 %\n",
      "----------------------------------------------------\n"
     ]
    },
    {
     "name": "stderr",
     "output_type": "stream",
     "text": [
      "352it [00:22, 15.69it/s]"
     ]
    },
    {
     "name": "stdout",
     "output_type": "stream",
     "text": [
      "Epoch: 9\n",
      "Train Loss is: 558.97\n",
      "Train Accuracy is: 42.42 %\n"
     ]
    },
    {
     "name": "stderr",
     "output_type": "stream",
     "text": [
      "\n"
     ]
    },
    {
     "name": "stdout",
     "output_type": "stream",
     "text": [
      "Val Loss is: 65.63\n",
      "Val Accuracy is: 39.60 %\n",
      "----------------------------------------------------\n"
     ]
    },
    {
     "name": "stderr",
     "output_type": "stream",
     "text": [
      "352it [00:22, 15.66it/s]"
     ]
    },
    {
     "name": "stdout",
     "output_type": "stream",
     "text": [
      "Epoch: 10\n",
      "Train Loss is: 554.79\n",
      "Train Accuracy is: 42.72 %\n"
     ]
    },
    {
     "name": "stderr",
     "output_type": "stream",
     "text": [
      "\n"
     ]
    },
    {
     "name": "stdout",
     "output_type": "stream",
     "text": [
      "Val Loss is: 66.69\n",
      "Val Accuracy is: 40.18 %\n",
      "----------------------------------------------------\n"
     ]
    },
    {
     "name": "stderr",
     "output_type": "stream",
     "text": [
      "352it [00:22, 15.67it/s]"
     ]
    },
    {
     "name": "stdout",
     "output_type": "stream",
     "text": [
      "Epoch: 11\n",
      "Train Loss is: 549.94\n",
      "Train Accuracy is: 43.55 %\n"
     ]
    },
    {
     "name": "stderr",
     "output_type": "stream",
     "text": [
      "\n"
     ]
    },
    {
     "name": "stdout",
     "output_type": "stream",
     "text": [
      "Val Loss is: 65.58\n",
      "Val Accuracy is: 40.14 %\n",
      "----------------------------------------------------\n"
     ]
    },
    {
     "name": "stderr",
     "output_type": "stream",
     "text": [
      "352it [00:22, 15.67it/s]"
     ]
    },
    {
     "name": "stdout",
     "output_type": "stream",
     "text": [
      "Epoch: 12\n",
      "Train Loss is: 544.30\n",
      "Train Accuracy is: 43.95 %\n"
     ]
    },
    {
     "name": "stderr",
     "output_type": "stream",
     "text": [
      "\n"
     ]
    },
    {
     "name": "stdout",
     "output_type": "stream",
     "text": [
      "Val Loss is: 65.59\n",
      "Val Accuracy is: 40.24 %\n",
      "----------------------------------------------------\n"
     ]
    },
    {
     "name": "stderr",
     "output_type": "stream",
     "text": [
      "352it [00:22, 15.69it/s]"
     ]
    },
    {
     "name": "stdout",
     "output_type": "stream",
     "text": [
      "Epoch: 13\n",
      "Train Loss is: 538.43\n",
      "Train Accuracy is: 44.55 %\n"
     ]
    },
    {
     "name": "stderr",
     "output_type": "stream",
     "text": [
      "\n"
     ]
    },
    {
     "name": "stdout",
     "output_type": "stream",
     "text": [
      "Val Loss is: 65.63\n",
      "Val Accuracy is: 39.72 %\n",
      "----------------------------------------------------\n"
     ]
    },
    {
     "name": "stderr",
     "output_type": "stream",
     "text": [
      "352it [00:22, 15.61it/s]"
     ]
    },
    {
     "name": "stdout",
     "output_type": "stream",
     "text": [
      "Epoch: 14\n",
      "Train Loss is: 536.11\n",
      "Train Accuracy is: 44.74 %\n"
     ]
    },
    {
     "name": "stderr",
     "output_type": "stream",
     "text": [
      "\n"
     ]
    },
    {
     "name": "stdout",
     "output_type": "stream",
     "text": [
      "Val Loss is: 65.92\n",
      "Val Accuracy is: 40.36 %\n",
      "----------------------------------------------------\n"
     ]
    },
    {
     "name": "stderr",
     "output_type": "stream",
     "text": [
      "352it [00:22, 15.65it/s]"
     ]
    },
    {
     "name": "stdout",
     "output_type": "stream",
     "text": [
      "Epoch: 15\n",
      "Train Loss is: 530.45\n",
      "Train Accuracy is: 45.33 %\n"
     ]
    },
    {
     "name": "stderr",
     "output_type": "stream",
     "text": [
      "\n"
     ]
    },
    {
     "name": "stdout",
     "output_type": "stream",
     "text": [
      "Val Loss is: 64.06\n",
      "Val Accuracy is: 42.22 %\n",
      "----------------------------------------------------\n"
     ]
    },
    {
     "name": "stderr",
     "output_type": "stream",
     "text": [
      "352it [00:22, 15.46it/s]"
     ]
    },
    {
     "name": "stdout",
     "output_type": "stream",
     "text": [
      "Epoch: 16\n",
      "Train Loss is: 531.21\n",
      "Train Accuracy is: 45.15 %\n"
     ]
    },
    {
     "name": "stderr",
     "output_type": "stream",
     "text": [
      "\n"
     ]
    },
    {
     "name": "stdout",
     "output_type": "stream",
     "text": [
      "Val Loss is: 64.88\n",
      "Val Accuracy is: 41.80 %\n",
      "----------------------------------------------------\n"
     ]
    },
    {
     "name": "stderr",
     "output_type": "stream",
     "text": [
      "352it [00:22, 15.56it/s]"
     ]
    },
    {
     "name": "stdout",
     "output_type": "stream",
     "text": [
      "Epoch: 17\n",
      "Train Loss is: 519.07\n",
      "Train Accuracy is: 46.44 %\n"
     ]
    },
    {
     "name": "stderr",
     "output_type": "stream",
     "text": [
      "\n"
     ]
    },
    {
     "name": "stdout",
     "output_type": "stream",
     "text": [
      "Val Loss is: 64.05\n",
      "Val Accuracy is: 42.68 %\n",
      "----------------------------------------------------\n"
     ]
    },
    {
     "name": "stderr",
     "output_type": "stream",
     "text": [
      "352it [00:22, 15.38it/s]"
     ]
    },
    {
     "name": "stdout",
     "output_type": "stream",
     "text": [
      "Epoch: 18\n",
      "Train Loss is: 510.11\n",
      "Train Accuracy is: 47.36 %\n"
     ]
    },
    {
     "name": "stderr",
     "output_type": "stream",
     "text": [
      "\n"
     ]
    },
    {
     "name": "stdout",
     "output_type": "stream",
     "text": [
      "Val Loss is: 63.26\n",
      "Val Accuracy is: 42.28 %\n",
      "----------------------------------------------------\n"
     ]
    },
    {
     "name": "stderr",
     "output_type": "stream",
     "text": [
      "352it [00:22, 15.77it/s]"
     ]
    },
    {
     "name": "stdout",
     "output_type": "stream",
     "text": [
      "Epoch: 19\n",
      "Train Loss is: 501.79\n",
      "Train Accuracy is: 48.50 %\n"
     ]
    },
    {
     "name": "stderr",
     "output_type": "stream",
     "text": [
      "\n"
     ]
    },
    {
     "name": "stdout",
     "output_type": "stream",
     "text": [
      "Val Loss is: 62.72\n",
      "Val Accuracy is: 43.14 %\n",
      "----------------------------------------------------\n"
     ]
    },
    {
     "name": "stderr",
     "output_type": "stream",
     "text": [
      "352it [00:22, 15.74it/s]"
     ]
    },
    {
     "name": "stdout",
     "output_type": "stream",
     "text": [
      "Epoch: 20\n",
      "Train Loss is: 501.83\n",
      "Train Accuracy is: 48.32 %\n"
     ]
    },
    {
     "name": "stderr",
     "output_type": "stream",
     "text": [
      "\n"
     ]
    },
    {
     "name": "stdout",
     "output_type": "stream",
     "text": [
      "Val Loss is: 63.32\n",
      "Val Accuracy is: 43.52 %\n",
      "----------------------------------------------------\n"
     ]
    },
    {
     "name": "stderr",
     "output_type": "stream",
     "text": [
      "352it [00:22, 15.59it/s]"
     ]
    },
    {
     "name": "stdout",
     "output_type": "stream",
     "text": [
      "Epoch: 21\n",
      "Train Loss is: 490.03\n",
      "Train Accuracy is: 49.66 %\n"
     ]
    },
    {
     "name": "stderr",
     "output_type": "stream",
     "text": [
      "\n"
     ]
    },
    {
     "name": "stdout",
     "output_type": "stream",
     "text": [
      "Val Loss is: 63.23\n",
      "Val Accuracy is: 44.18 %\n",
      "----------------------------------------------------\n"
     ]
    },
    {
     "name": "stderr",
     "output_type": "stream",
     "text": [
      "352it [00:22, 15.54it/s]"
     ]
    },
    {
     "name": "stdout",
     "output_type": "stream",
     "text": [
      "Epoch: 22\n",
      "Train Loss is: 489.07\n",
      "Train Accuracy is: 49.65 %\n"
     ]
    },
    {
     "name": "stderr",
     "output_type": "stream",
     "text": [
      "\n"
     ]
    },
    {
     "name": "stdout",
     "output_type": "stream",
     "text": [
      "Val Loss is: 64.40\n",
      "Val Accuracy is: 42.80 %\n",
      "----------------------------------------------------\n"
     ]
    },
    {
     "name": "stderr",
     "output_type": "stream",
     "text": [
      "352it [00:22, 15.50it/s]"
     ]
    },
    {
     "name": "stdout",
     "output_type": "stream",
     "text": [
      "Epoch: 23\n",
      "Train Loss is: 477.86\n",
      "Train Accuracy is: 50.84 %\n"
     ]
    },
    {
     "name": "stderr",
     "output_type": "stream",
     "text": [
      "\n"
     ]
    },
    {
     "name": "stdout",
     "output_type": "stream",
     "text": [
      "Val Loss is: 62.78\n",
      "Val Accuracy is: 44.16 %\n",
      "----------------------------------------------------\n"
     ]
    },
    {
     "name": "stderr",
     "output_type": "stream",
     "text": [
      "352it [00:22, 15.61it/s]"
     ]
    },
    {
     "name": "stdout",
     "output_type": "stream",
     "text": [
      "Epoch: 24\n",
      "Train Loss is: 474.64\n",
      "Train Accuracy is: 51.24 %\n"
     ]
    },
    {
     "name": "stderr",
     "output_type": "stream",
     "text": [
      "\n"
     ]
    },
    {
     "name": "stdout",
     "output_type": "stream",
     "text": [
      "Val Loss is: 61.67\n",
      "Val Accuracy is: 44.82 %\n",
      "----------------------------------------------------\n"
     ]
    },
    {
     "name": "stderr",
     "output_type": "stream",
     "text": [
      "352it [00:22, 15.67it/s]"
     ]
    },
    {
     "name": "stdout",
     "output_type": "stream",
     "text": [
      "Epoch: 25\n",
      "Train Loss is: 472.18\n",
      "Train Accuracy is: 51.46 %\n"
     ]
    },
    {
     "name": "stderr",
     "output_type": "stream",
     "text": [
      "\n"
     ]
    },
    {
     "name": "stdout",
     "output_type": "stream",
     "text": [
      "Val Loss is: 62.36\n",
      "Val Accuracy is: 44.92 %\n",
      "----------------------------------------------------\n"
     ]
    },
    {
     "name": "stderr",
     "output_type": "stream",
     "text": [
      "352it [00:22, 15.64it/s]"
     ]
    },
    {
     "name": "stdout",
     "output_type": "stream",
     "text": [
      "Epoch: 26\n",
      "Train Loss is: 460.68\n",
      "Train Accuracy is: 52.50 %\n"
     ]
    },
    {
     "name": "stderr",
     "output_type": "stream",
     "text": [
      "\n"
     ]
    },
    {
     "name": "stdout",
     "output_type": "stream",
     "text": [
      "Val Loss is: 63.78\n",
      "Val Accuracy is: 44.22 %\n",
      "----------------------------------------------------\n"
     ]
    },
    {
     "name": "stderr",
     "output_type": "stream",
     "text": [
      "352it [00:22, 15.84it/s]"
     ]
    },
    {
     "name": "stdout",
     "output_type": "stream",
     "text": [
      "Epoch: 27\n",
      "Train Loss is: 459.43\n",
      "Train Accuracy is: 52.67 %\n"
     ]
    },
    {
     "name": "stderr",
     "output_type": "stream",
     "text": [
      "\n"
     ]
    },
    {
     "name": "stdout",
     "output_type": "stream",
     "text": [
      "Val Loss is: 62.94\n",
      "Val Accuracy is: 44.34 %\n",
      "----------------------------------------------------\n"
     ]
    },
    {
     "name": "stderr",
     "output_type": "stream",
     "text": [
      "352it [00:22, 15.74it/s]"
     ]
    },
    {
     "name": "stdout",
     "output_type": "stream",
     "text": [
      "Epoch: 28\n",
      "Train Loss is: 455.61\n",
      "Train Accuracy is: 53.32 %\n"
     ]
    },
    {
     "name": "stderr",
     "output_type": "stream",
     "text": [
      "\n"
     ]
    },
    {
     "name": "stdout",
     "output_type": "stream",
     "text": [
      "Val Loss is: 62.49\n",
      "Val Accuracy is: 44.60 %\n",
      "----------------------------------------------------\n"
     ]
    },
    {
     "name": "stderr",
     "output_type": "stream",
     "text": [
      "352it [00:22, 15.57it/s]"
     ]
    },
    {
     "name": "stdout",
     "output_type": "stream",
     "text": [
      "Epoch: 29\n",
      "Train Loss is: 447.84\n",
      "Train Accuracy is: 53.99 %\n"
     ]
    },
    {
     "name": "stderr",
     "output_type": "stream",
     "text": [
      "\n"
     ]
    },
    {
     "name": "stdout",
     "output_type": "stream",
     "text": [
      "Val Loss is: 62.48\n",
      "Val Accuracy is: 45.18 %\n",
      "----------------------------------------------------\n"
     ]
    },
    {
     "name": "stderr",
     "output_type": "stream",
     "text": [
      "352it [00:22, 15.64it/s]"
     ]
    },
    {
     "name": "stdout",
     "output_type": "stream",
     "text": [
      "Epoch: 30\n",
      "Train Loss is: 446.61\n",
      "Train Accuracy is: 54.25 %\n"
     ]
    },
    {
     "name": "stderr",
     "output_type": "stream",
     "text": [
      "\n"
     ]
    },
    {
     "name": "stdout",
     "output_type": "stream",
     "text": [
      "Val Loss is: 63.06\n",
      "Val Accuracy is: 44.98 %\n",
      "----------------------------------------------------\n"
     ]
    },
    {
     "name": "stderr",
     "output_type": "stream",
     "text": [
      "352it [00:22, 15.62it/s]"
     ]
    },
    {
     "name": "stdout",
     "output_type": "stream",
     "text": [
      "Epoch: 31\n",
      "Train Loss is: 438.09\n",
      "Train Accuracy is: 55.00 %\n"
     ]
    },
    {
     "name": "stderr",
     "output_type": "stream",
     "text": [
      "\n"
     ]
    },
    {
     "name": "stdout",
     "output_type": "stream",
     "text": [
      "Val Loss is: 62.53\n",
      "Val Accuracy is: 44.58 %\n",
      "----------------------------------------------------\n"
     ]
    },
    {
     "name": "stderr",
     "output_type": "stream",
     "text": [
      "352it [00:22, 15.74it/s]"
     ]
    },
    {
     "name": "stdout",
     "output_type": "stream",
     "text": [
      "Epoch: 32\n",
      "Train Loss is: 430.34\n",
      "Train Accuracy is: 55.72 %\n"
     ]
    },
    {
     "name": "stderr",
     "output_type": "stream",
     "text": [
      "\n"
     ]
    },
    {
     "name": "stdout",
     "output_type": "stream",
     "text": [
      "Val Loss is: 62.38\n",
      "Val Accuracy is: 44.50 %\n",
      "----------------------------------------------------\n"
     ]
    },
    {
     "name": "stderr",
     "output_type": "stream",
     "text": [
      "352it [00:22, 15.77it/s]"
     ]
    },
    {
     "name": "stdout",
     "output_type": "stream",
     "text": [
      "Epoch: 33\n",
      "Train Loss is: 420.86\n",
      "Train Accuracy is: 56.76 %\n"
     ]
    },
    {
     "name": "stderr",
     "output_type": "stream",
     "text": [
      "\n"
     ]
    },
    {
     "name": "stdout",
     "output_type": "stream",
     "text": [
      "Val Loss is: 64.02\n",
      "Val Accuracy is: 45.06 %\n",
      "----------------------------------------------------\n"
     ]
    },
    {
     "name": "stderr",
     "output_type": "stream",
     "text": [
      "352it [00:22, 15.76it/s]"
     ]
    },
    {
     "name": "stdout",
     "output_type": "stream",
     "text": [
      "Epoch: 34\n",
      "Train Loss is: 412.43\n",
      "Train Accuracy is: 57.66 %\n"
     ]
    },
    {
     "name": "stderr",
     "output_type": "stream",
     "text": [
      "\n"
     ]
    },
    {
     "name": "stdout",
     "output_type": "stream",
     "text": [
      "Val Loss is: 63.84\n",
      "Val Accuracy is: 45.18 %\n",
      "----------------------------------------------------\n"
     ]
    },
    {
     "name": "stderr",
     "output_type": "stream",
     "text": [
      "352it [00:22, 15.83it/s]"
     ]
    },
    {
     "name": "stdout",
     "output_type": "stream",
     "text": [
      "Epoch: 35\n",
      "Train Loss is: 402.71\n",
      "Train Accuracy is: 58.51 %\n"
     ]
    },
    {
     "name": "stderr",
     "output_type": "stream",
     "text": [
      "\n"
     ]
    },
    {
     "name": "stdout",
     "output_type": "stream",
     "text": [
      "Val Loss is: 62.36\n",
      "Val Accuracy is: 46.50 %\n",
      "----------------------------------------------------\n"
     ]
    },
    {
     "name": "stderr",
     "output_type": "stream",
     "text": [
      "352it [00:22, 15.89it/s]"
     ]
    },
    {
     "name": "stdout",
     "output_type": "stream",
     "text": [
      "Epoch: 36\n",
      "Train Loss is: 410.33\n",
      "Train Accuracy is: 57.88 %\n"
     ]
    },
    {
     "name": "stderr",
     "output_type": "stream",
     "text": [
      "\n"
     ]
    },
    {
     "name": "stdout",
     "output_type": "stream",
     "text": [
      "Val Loss is: 62.89\n",
      "Val Accuracy is: 45.52 %\n",
      "----------------------------------------------------\n"
     ]
    },
    {
     "name": "stderr",
     "output_type": "stream",
     "text": [
      "352it [00:22, 15.63it/s]"
     ]
    },
    {
     "name": "stdout",
     "output_type": "stream",
     "text": [
      "Epoch: 37\n",
      "Train Loss is: 398.13\n",
      "Train Accuracy is: 59.08 %\n"
     ]
    },
    {
     "name": "stderr",
     "output_type": "stream",
     "text": [
      "\n"
     ]
    },
    {
     "name": "stdout",
     "output_type": "stream",
     "text": [
      "Val Loss is: 61.95\n",
      "Val Accuracy is: 46.00 %\n",
      "----------------------------------------------------\n"
     ]
    },
    {
     "name": "stderr",
     "output_type": "stream",
     "text": [
      "352it [00:22, 15.83it/s]"
     ]
    },
    {
     "name": "stdout",
     "output_type": "stream",
     "text": [
      "Epoch: 38\n",
      "Train Loss is: 388.90\n",
      "Train Accuracy is: 59.95 %\n"
     ]
    },
    {
     "name": "stderr",
     "output_type": "stream",
     "text": [
      "\n"
     ]
    },
    {
     "name": "stdout",
     "output_type": "stream",
     "text": [
      "Val Loss is: 62.83\n",
      "Val Accuracy is: 46.86 %\n",
      "----------------------------------------------------\n"
     ]
    },
    {
     "name": "stderr",
     "output_type": "stream",
     "text": [
      "352it [00:22, 15.72it/s]"
     ]
    },
    {
     "name": "stdout",
     "output_type": "stream",
     "text": [
      "Epoch: 39\n",
      "Train Loss is: 384.59\n",
      "Train Accuracy is: 60.30 %\n"
     ]
    },
    {
     "name": "stderr",
     "output_type": "stream",
     "text": [
      "\n"
     ]
    },
    {
     "name": "stdout",
     "output_type": "stream",
     "text": [
      "Val Loss is: 64.22\n",
      "Val Accuracy is: 45.14 %\n",
      "----------------------------------------------------\n"
     ]
    },
    {
     "name": "stderr",
     "output_type": "stream",
     "text": [
      "352it [00:22, 15.60it/s]"
     ]
    },
    {
     "name": "stdout",
     "output_type": "stream",
     "text": [
      "Epoch: 40\n",
      "Train Loss is: 371.95\n",
      "Train Accuracy is: 61.85 %\n"
     ]
    },
    {
     "name": "stderr",
     "output_type": "stream",
     "text": [
      "\n"
     ]
    },
    {
     "name": "stdout",
     "output_type": "stream",
     "text": [
      "Val Loss is: 64.70\n",
      "Val Accuracy is: 45.66 %\n",
      "----------------------------------------------------\n"
     ]
    }
   ],
   "source": [
    "\n",
    "total_trainingloss = []\n",
    "total_valloss = []\n",
    "\n",
    "total_training_acc = []\n",
    "total_val_acc = []\n",
    "\n",
    "for epoch in range(40):\n",
    "    correct_train = 0\n",
    "    total_train = 0\n",
    "\n",
    "    train_loss = 0.0\n",
    "    for i, data in tqdm(enumerate(trainloader, 0)):\n",
    "        try:\n",
    "            inputs, labels = data\n",
    "            optimizer.zero_grad()\n",
    "\n",
    "            outputs = vit1(inputs.to(device))\n",
    "            loss = criterion(outputs, labels.to(device))\n",
    "            loss.backward()\n",
    "            optimizer.step()\n",
    "\n",
    "\n",
    "            train_loss += loss.item()\n",
    "\n",
    "            _, predicted = torch.max(outputs, 1)\n",
    "            total_train += labels.size(0)\n",
    "            correct_train += (predicted.to(device) == labels.to(device)).sum().item()\n",
    "        except Exception as e:\n",
    "            print(\"I got an error\")\n",
    "            print(f'Error is {e}')\n",
    "            pass\n",
    "\n",
    "\n",
    "    print(f'Epoch: {epoch+1}')\n",
    "    print(f'Train Loss is: {train_loss:.2f}')\n",
    "    total_trainingloss.append(train_loss)\n",
    "    print(f'Train Accuracy is: {(100*correct_train/total_train):.2f} %')\n",
    "\n",
    "    total_training_acc.append(correct_train/total_train)\n",
    "\n",
    "    val_loss = 0.0\n",
    "    correct_val = 0\n",
    "    total_val = 0\n",
    "    with torch.no_grad():\n",
    "        for data in valloader:\n",
    "            try:\n",
    "                inputs, labels = data\n",
    "                outputs = vit1(inputs.to(device))\n",
    "                Valloss = criterion(outputs, labels.to(device))\n",
    "                \n",
    "                val_loss += Valloss.item()\n",
    "\n",
    "                _, predicted = torch.max(outputs, 1)\n",
    "                total_val += labels.size(0)\n",
    "                correct_val += (predicted.to(device) == labels.to(device)).sum().item()\n",
    "            except:\n",
    "                print(\"I got an error\")\n",
    "                pass\n",
    "    \n",
    "    print(f'Val Loss is: {val_loss:.2f}')\n",
    "    total_valloss.append(val_loss)\n",
    "    print(f'Val Accuracy is: {(100*correct_val/total_val):.2f} %')\n",
    "    total_val_acc.append(correct_val/total_val)\n",
    "    print('----------------------------------------------------')\n",
    " \n",
    "\n",
    "def MHA(input,N=16,D=192,B=4,heads = 2):\n",
    "\n",
    "    SA = SelfAttention(N=N,D=D,B = B)\n",
    "    # print(input.shape)\n",
    "    selfAttentionRes=SA.forward(input.to(device))\n",
    "    \n",
    "    \n",
    "    for i in range(1,heads):\n",
    "        SA = SelfAttention(N=N,D=D,B = B)\n",
    "        selfAttentionRes = torch.cat([selfAttentionRes,SA.forward(input.to(device))], dim=2)\n",
    "    \n",
    "\n",
    "    Wo = torch.rand((heads*D,D)).to(device)\n",
    "    Y_MHA = selfAttentionRes @ Wo\n",
    "\n",
    "    return Y_MHA + input.to(device)\n",
    "\n"
   ]
  },
  {
   "cell_type": "code",
   "execution_count": 43,
   "metadata": {},
   "outputs": [],
   "source": [
    "def lossPlotter(training_loss,val_loss,type=\"Loss\"):\n",
    "    x = range(len(training_loss))\n",
    "\n",
    "    y1 = training_loss\n",
    "    y2 = val_loss\n",
    "\n",
    "    \n",
    "\n",
    "    fig, ax1 = plt.subplots()\n",
    "\n",
    "\n",
    "    \n",
    "    plt.plot(x,y1, label=f'Training {type}')\n",
    "    plt.plot(x,y2, label=f'Validation {type}')\n",
    "    \n",
    "    plt.xlabel('Epochs')\n",
    "    plt.ylabel(f'{type}')\n",
    "    \n",
    "    plt.title(f'{type} Plot')\n",
    "    plt.legend()\n",
    "    plt.show()\n"
   ]
  },
  {
   "cell_type": "code",
   "execution_count": 46,
   "metadata": {},
   "outputs": [
    {
     "data": {
      "image/png": "[encoded data removed]",
      "text/plain": [
       "<Figure size 640x480 with 1 Axes>"
      ]
     },
     "metadata": {},
     "output_type": "display_data"
    }
   ],
   "source": [
    "lossPlotter(training_loss=total_training_acc,val_loss=total_val_acc,type=\"Accuracy\")"
   ]
  },
  {
   "cell_type": "code",
   "execution_count": 47,
   "metadata": {},
   "outputs": [
    {
     "data": {
      "image/png": "[encoded data removed]",
      "text/plain": [
       "<Figure size 640x480 with 1 Axes>"
      ]
     },
     "metadata": {},
     "output_type": "display_data"
    }
   ],
   "source": [
    "lossPlotter(training_loss=total_trainingloss,val_loss=total_valloss,type=\"Loss\")"
   ]
  },
  {
   "cell_type": "code",
   "execution_count": 48,
   "metadata": {},
   "outputs": [],
   "source": [
    "from  datetime import datetime"
   ]
  },
  {
   "cell_type": "code",
   "execution_count": 49,
   "metadata": {},
   "outputs": [],
   "source": [
    "current_datetime = datetime.now()\n",
    "current_datetime.strftime(\"%Y-%m-%d %H:%M:%S\")\n",
    "\n",
    "PATH = f'./cifar_ViT_{total_training_acc[-1]:.2f}__{current_datetime}.pth'\n",
    "torch.save(vit1.state_dict(), PATH)"
   ]
  },
  {
   "cell_type": "code",
   "execution_count": 21,
   "metadata": {},
   "outputs": [],
   "source": [
    "PATH = \"cifar_ViT_0.62__2024-03-29 18:06:31.688569.pth\""
   ]
  },
  {
   "cell_type": "code",
   "execution_count": 22,
   "metadata": {},
   "outputs": [
    {
     "data": {
      "text/plain": [
       "<All keys matched successfully>"
      ]
     },
     "execution_count": 22,
     "metadata": {},
     "output_type": "execute_result"
    }
   ],
   "source": [
    "vit1 = ViT(images,4)\n",
    "vit1.load_state_dict(torch.load(PATH))"
   ]
  },
  {
   "cell_type": "code",
   "execution_count": 23,
   "metadata": {},
   "outputs": [
    {
     "name": "stdout",
     "output_type": "stream",
     "text": [
      "Test Loss is: 1.76\n",
      "Test Accuracy is: 39.44 %\n",
      "----------------------------------------------------\n"
     ]
    }
   ],
   "source": [
    "\n",
    "test_loss = 0.0\n",
    "correct_test = 0\n",
    "total_test = 0\n",
    "with torch.no_grad():\n",
    "    for data in testloader:\n",
    "        inputs, labels = data\n",
    "        outputs = vit1(inputs.to(device))\n",
    "        testloss = criterion(outputs, labels.to(device))\n",
    "        \n",
    "        test_loss += testloss.item()\n",
    "\n",
    "        _, predicted = torch.max(outputs, 1)\n",
    "        total_test += labels.size(0)\n",
    "        correct_test += (predicted.to(device) == labels.to(device)).sum().item()\n",
    "\n",
    "    print(f'Test Loss is: {testloss:.2f}')\n",
    "    print(f'Test Accuracy is: {(100*correct_test/total_test):.2f} %')\n",
    "    print('----------------------------------------------------')"
   ]
  },
  {
   "cell_type": "markdown",
   "metadata": {},
   "source": [
    "Metrics of Conv+SA and ViT:\n",
    "\n",
    "- Conv+SA:\n",
    "    - Train:83.86 %\n",
    "\n",
    "    - Test: 55.33 %\n",
    "\n",
    "    - Val: 57.88 %\n",
    "\n",
    "- ViT:\n",
    "    - Train: 61.85 %\n",
    "\n",
    "    - Test: 39.44 %\n",
    "\n",
    "    - Val: 45.66 %\n"
   ]
  },
  {
   "cell_type": "markdown",
   "metadata": {},
   "source": [
    "Upon comparison of the two models, CNN+ Self Attention Model is performing better"
   ]
  }
 ],
 "metadata": {
  "kernelspec": {
   "display_name": "carla1",
   "language": "python",
   "name": "python3"
  },
  "language_info": {
   "codemirror_mode": {
    "name": "ipython",
    "version": 3
   },
   "file_extension": ".py",
   "mimetype": "text/x-python",
   "name": "python",
   "nbconvert_exporter": "python",
   "pygments_lexer": "ipython3",
   "version": "3.7.12"
  }
 },
 "nbformat": 4,
 "nbformat_minor": 2
}
